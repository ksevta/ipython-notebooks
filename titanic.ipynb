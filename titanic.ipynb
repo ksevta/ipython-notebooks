{
 "cells": [
  {
   "cell_type": "code",
   "execution_count": 1,
   "metadata": {
    "collapsed": false
   },
   "outputs": [],
   "source": [
    "# import numpy as np\n",
    "import pandas as pd\n",
    "import matplotlib.pyplot as plt\n",
    "import sklearn\n",
    "import seaborn as sns\n",
    "import numpy as np\n",
    "%matplotlib inline\n",
    "sns.set_style('whitegrid')\n",
    "#pd.options.display.max_rows = 20\n",
    "#read data\n",
    "#split data\n",
    "#normalize data\n",
    "#train model\n",
    "#use model\n",
    "#result"
   ]
  },
  {
   "cell_type": "code",
   "execution_count": 2,
   "metadata": {
    "collapsed": false
   },
   "outputs": [],
   "source": [
    "d = pd.read_csv('gender_submission.csv')"
   ]
  },
  {
   "cell_type": "code",
   "execution_count": 3,
   "metadata": {
    "collapsed": false
   },
   "outputs": [],
   "source": [
    "#read data\n",
    "titanic = pd.read_csv('train.csv')\n",
    "titanic_test = pd.read_csv('test.csv')\n",
    "X = titanic[['Pclass','Sex','SibSp','Age','Parch','Fare',]]#'Embarked']]\n",
    "y = titanic['Survived']\n",
    "X_test_f = titanic_test[['Pclass','Sex','SibSp','Age','Parch','Fare']]#,'Embarked']]\n",
    "#print titanic.Cabin.isnull().sum()\n",
    "#print titanic.count()\n",
    "#print titanc_test.count()"
   ]
  },
  {
   "cell_type": "code",
   "execution_count": 4,
   "metadata": {
    "collapsed": false
   },
   "outputs": [
    {
     "name": "stderr",
     "output_type": "stream",
     "text": [
      "/home/ksevta/anaconda2/lib/python2.7/site-packages/ipykernel/__main__.py:3: SettingWithCopyWarning: \n",
      "A value is trying to be set on a copy of a slice from a DataFrame.\n",
      "Try using .loc[row_indexer,col_indexer] = value instead\n",
      "\n",
      "See the caveats in the documentation: http://pandas.pydata.org/pandas-docs/stable/indexing.html#indexing-view-versus-copy\n",
      "  app.launch_new_instance()\n",
      "/home/ksevta/anaconda2/lib/python2.7/site-packages/ipykernel/__main__.py:4: SettingWithCopyWarning: \n",
      "A value is trying to be set on a copy of a slice from a DataFrame.\n",
      "Try using .loc[row_indexer,col_indexer] = value instead\n",
      "\n",
      "See the caveats in the documentation: http://pandas.pydata.org/pandas-docs/stable/indexing.html#indexing-view-versus-copy\n"
     ]
    }
   ],
   "source": [
    "from sklearn.preprocessing import LabelEncoder\n",
    "le = LabelEncoder()\n",
    "X['Sex'] =le.fit_transform(X['Sex'])\n",
    "X_test_f['Sex'] = le.transform(X_test_f['Sex'])\n",
    "#X['Embarked'] = le.fit_transform(X['Embarked'])\n",
    "#X_test_f['Embarked'] = le.transform(X_test_f['Embarked'])"
   ]
  },
  {
   "cell_type": "code",
   "execution_count": 5,
   "metadata": {
    "collapsed": false
   },
   "outputs": [],
   "source": [
    "from sklearn.preprocessing import Imputer\n",
    "imr = Imputer(axis=0)\n",
    "imr = imr.fit(X)\n",
    "X = imr.transform(X)\n",
    "X_test_f = imr.transform(X_test_f)"
   ]
  },
  {
   "cell_type": "code",
   "execution_count": 6,
   "metadata": {
    "collapsed": false
   },
   "outputs": [
    {
     "name": "stderr",
     "output_type": "stream",
     "text": [
      "/home/ksevta/anaconda2/lib/python2.7/site-packages/sklearn/cross_validation.py:44: DeprecationWarning: This module was deprecated in version 0.18 in favor of the model_selection module into which all the refactored classes and functions are moved. Also note that the interface of the new CV iterators are different from that of this module. This module will be removed in 0.20.\n",
      "  \"This module will be removed in 0.20.\", DeprecationWarning)\n"
     ]
    }
   ],
   "source": [
    "from sklearn.cross_validation import train_test_split\n",
    "X_train,X_test,y_train,y_test = train_test_split(X,y,test_size = 0.3,random_state = 0)\n",
    "#X_train = pd.DataFrame(X_train,columns=['PassengerId','Pclass','Sex','SibSp','Age','Parch','Fare'])\n",
    "#X_test = pd.DataFrame(X_test,columns=['PassengerId','Pclass','Sex','SibSp','Age','Parch','Fare'])\n",
    "#y_train = pd.DataFrame(y_train,columns=['Survived'])\n",
    "#y_test = pd.DataFrame(y_test,columns=['Survived'])"
   ]
  },
  {
   "cell_type": "code",
   "execution_count": 7,
   "metadata": {
    "collapsed": false
   },
   "outputs": [],
   "source": [
    "from sklearn.preprocessing import StandardScaler\n",
    "ss = StandardScaler()\n",
    "X_train_std = ss.fit_transform(X_train)\n",
    "X_test_std = ss.transform(X_test)\n",
    "X_test_f_std = ss.transform(X_test_f)"
   ]
  },
  {
   "cell_type": "code",
   "execution_count": 16,
   "metadata": {
    "collapsed": false
   },
   "outputs": [
    {
     "data": {
      "text/plain": [
       "DecisionTreeClassifier(class_weight=None, criterion='gini', max_depth=None,\n",
       "            max_features=None, max_leaf_nodes=None,\n",
       "            min_impurity_split=1e-07, min_samples_leaf=1,\n",
       "            min_samples_split=2, min_weight_fraction_leaf=0.0,\n",
       "            presort=False, random_state=1, splitter='best')"
      ]
     },
     "execution_count": 16,
     "metadata": {},
     "output_type": "execute_result"
    }
   ],
   "source": [
    "from sklearn.svm import SVC\n",
    "from sklearn.neighbors import KNeighborsClassifier\n",
    "from sklearn.linear_model import Perceptron\n",
    "from sklearn.linear_model import LogisticRegression\n",
    "from sklearn.tree import DecisionTreeClassifier\n",
    "from sklearn.ensemble import RandomForestClassifier\n",
    "dtc = DecisionTreeClassifier(random_state=1)\n",
    "rfc = RandomForestClassifier()\n",
    "lr = LogisticRegression(penalty='l2',C=10.0)\n",
    "svm = SVC(kernel='rbf',C = 100.0,gamma=0.01,random_state=0)\n",
    "knc = KNeighborsClassifier(n_neighbors=5)\n",
    "ppn = Perceptron(alpha=10.0,random_state = 0)\n",
    "rfc.fit(X_train_std,y_train)\n",
    "#sbs = SBS(knc,k_features=1)\n",
    "rfc.fit(X_train_std,y_train)\n",
    "svm.fit(X_train_std,y_train)\n",
    "knc.fit(X_train_std,y_train)\n",
    "ppn.fit(X_train_std,y_train)\n",
    "lr.fit(X_train_std,y_train)\n",
    "dtc.fit(X_train_std,y_train)"
   ]
  },
  {
   "cell_type": "code",
   "execution_count": 17,
   "metadata": {
    "collapsed": false
   },
   "outputs": [
    {
     "name": "stdout",
     "output_type": "stream",
     "text": [
      "rfc\n",
      "for train:0.966292\n",
      "for test:0.820896\n",
      "svm\n",
      "for train:0.831461\n",
      "for test:0.809701\n",
      "knc\n",
      "for train:0.861958\n",
      "for test:0.783582\n",
      "ppn\n",
      "for train:0.786517\n",
      "for test:0.787313\n",
      "lr\n",
      "for train:0.786517\n",
      "for test:0.802239\n",
      "dtc\n",
      "for train:0.979133\n",
      "for test:0.805970\n"
     ]
    }
   ],
   "source": [
    "from sklearn.metrics import  accuracy_score\n",
    "print 'rfc'\n",
    "print 'for train:%f'%accuracy_score(y_train,rfc.predict(X_train_std))\n",
    "print 'for test:%f'%accuracy_score(y_test,rfc.predict(X_test_std))\n",
    "\n",
    "print 'svm'\n",
    "print 'for train:%f'%accuracy_score(y_train,svm.predict(X_train_std))\n",
    "print 'for test:%f'%accuracy_score(y_test,svm.predict(X_test_std))\n",
    "\n",
    "print 'knc'\n",
    "print 'for train:%f'%accuracy_score(y_train,knc.predict(X_train_std))\n",
    "print 'for test:%f'%accuracy_score(y_test,knc.predict(X_test_std))\n",
    "\n",
    "print 'ppn'\n",
    "print 'for train:%f'%accuracy_score(y_train,ppn.predict(X_train_std))\n",
    "print 'for test:%f'%accuracy_score(y_test,ppn.predict(X_test_std))\n",
    "\n",
    "print 'lr'\n",
    "print 'for train:%f'%accuracy_score(y_train,lr.predict(X_train_std))\n",
    "print 'for test:%f'%accuracy_score(y_test,lr.predict(X_test_std))\n",
    "\n",
    "print 'dtc'\n",
    "print 'for train:%f'%accuracy_score(y_train,dtc.predict(X_train_std))\n",
    "print 'for test:%f'%accuracy_score(y_test,dtc.predict(X_test_std))"
   ]
  },
  {
   "cell_type": "code",
   "execution_count": 18,
   "metadata": {
    "collapsed": false
   },
   "outputs": [
    {
     "ename": "NameError",
     "evalue": "name 'titanc_test' is not defined",
     "output_type": "error",
     "traceback": [
      "\u001b[1;31m---------------------------------------------------------------------------\u001b[0m",
      "\u001b[1;31mNameError\u001b[0m                                 Traceback (most recent call last)",
      "\u001b[1;32m<ipython-input-18-7a64a7e481cc>\u001b[0m in \u001b[0;36m<module>\u001b[1;34m()\u001b[0m\n\u001b[0;32m      4\u001b[0m \u001b[0mfinal_predict\u001b[0m \u001b[1;33m=\u001b[0m \u001b[0mrfc\u001b[0m\u001b[1;33m.\u001b[0m\u001b[0mpredict\u001b[0m\u001b[1;33m(\u001b[0m\u001b[0mX_test_f_std\u001b[0m\u001b[1;33m)\u001b[0m\u001b[1;33m\u001b[0m\u001b[0m\n\u001b[0;32m      5\u001b[0m \u001b[1;31m#print accuracy_score(final_predict)\u001b[0m\u001b[1;33m\u001b[0m\u001b[1;33m\u001b[0m\u001b[0m\n\u001b[1;32m----> 6\u001b[1;33m \u001b[0moutput\u001b[0m\u001b[1;33m[\u001b[0m\u001b[1;34m'PassengerId'\u001b[0m\u001b[1;33m]\u001b[0m \u001b[1;33m=\u001b[0m \u001b[0mtitanc_test\u001b[0m\u001b[1;33m[\u001b[0m\u001b[1;34m'PassengerId'\u001b[0m\u001b[1;33m]\u001b[0m\u001b[1;33m\u001b[0m\u001b[0m\n\u001b[0m\u001b[0;32m      7\u001b[0m \u001b[0moutput\u001b[0m\u001b[1;33m[\u001b[0m\u001b[1;34m'Survived'\u001b[0m\u001b[1;33m]\u001b[0m \u001b[1;33m=\u001b[0m \u001b[0mfinal_predict\u001b[0m\u001b[1;33m\u001b[0m\u001b[0m\n\u001b[0;32m      8\u001b[0m \u001b[1;31m#output.head(n=7)\u001b[0m\u001b[1;33m\u001b[0m\u001b[1;33m\u001b[0m\u001b[0m\n",
      "\u001b[1;31mNameError\u001b[0m: name 'titanc_test' is not defined"
     ]
    }
   ],
   "source": [
    "#from sklearn.metrics import accuracy_score\n",
    "#print accuracy_score(y_test,predict)\n",
    "output = pd.DataFrame()\n",
    "final_predict = rfc.predict(X_test_f_std)\n",
    "#print accuracy_score(final_predict)\n",
    "output['PassengerId'] = titanc_test['PassengerId']\n",
    "output['Survived'] = final_predict\n",
    "#output.head(n=7)"
   ]
  },
  {
   "cell_type": "code",
   "execution_count": 331,
   "metadata": {
    "collapsed": false
   },
   "outputs": [],
   "source": [
    "output.to_csv('output.csv',index=False)"
   ]
  },
  {
   "cell_type": "code",
   "execution_count": 330,
   "metadata": {
    "collapsed": false
   },
   "outputs": [
    {
     "data": {
      "text/plain": [
       "(array([  3,  17,  27,  34,  41,  46,  54,  63,  69,  70,  72,  77,  79,\n",
       "         82,  86,  88,  90,  94,  97,  98, 104, 111, 126, 127, 130, 132,\n",
       "        148, 157, 160, 165, 192, 200, 213, 216, 223, 225, 227, 254, 273,\n",
       "        282, 296, 301, 304, 306, 311, 317, 323, 331, 336, 345, 355, 359,\n",
       "        363, 384, 392, 403, 408, 410]),)"
      ]
     },
     "execution_count": 330,
     "metadata": {},
     "output_type": "execute_result"
    }
   ],
   "source": [
    "v = pd.read_csv('output.csv')\n",
    "(np.where(output['Survived'] != v['Survived']))"
   ]
  },
  {
   "cell_type": "code",
   "execution_count": null,
   "metadata": {
    "collapsed": true
   },
   "outputs": [],
   "source": [
    "# "
   ]
  }
 ],
 "metadata": {
  "kernelspec": {
   "display_name": "Python [Root]",
   "language": "python",
   "name": "Python [Root]"
  },
  "language_info": {
   "codemirror_mode": {
    "name": "ipython",
    "version": 2
   },
   "file_extension": ".py",
   "mimetype": "text/x-python",
   "name": "python",
   "nbconvert_exporter": "python",
   "pygments_lexer": "ipython2",
   "version": "2.7.12"
  }
 },
 "nbformat": 4,
 "nbformat_minor": 0
}
